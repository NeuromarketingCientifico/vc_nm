{
  "nbformat": 4,
  "nbformat_minor": 0,
  "metadata": {
    "colab": {
      "provenance": [],
      "authorship_tag": "ABX9TyOQW7pzUNNFgyb1uXcVwJOi",
      "include_colab_link": true
    },
    "kernelspec": {
      "name": "python3",
      "display_name": "Python 3"
    },
    "language_info": {
      "name": "python"
    }
  },
  "cells": [
    {
      "cell_type": "markdown",
      "metadata": {
        "id": "view-in-github",
        "colab_type": "text"
      },
      "source": [
        "<a href=\"https://colab.research.google.com/github/NeuromarketingCientifico/vc_nm/blob/main/Funciones.ipynb\" target=\"_parent\"><img src=\"https://colab.research.google.com/assets/colab-badge.svg\" alt=\"Open In Colab\"/></a>"
      ]
    },
    {
      "cell_type": "code",
      "execution_count": null,
      "metadata": {
        "id": "p_AI2rzBzPYE"
      },
      "outputs": [],
      "source": [
        "def seleccionar_archivo_colab():\n",
        "    uploaded = files.upload()  # abre diálogo para subir archivo local\n",
        "    if uploaded:\n",
        "        nombre = list(uploaded.keys())[0]\n",
        "        return nombre\n",
        "    return None"
      ]
    },
    {
      "cell_type": "code",
      "source": [
        "def seleccionar_archivo_colab():\n",
        "    uploaded = files.upload()  # abre diálogo para subir archivo local\n",
        "    if uploaded:\n",
        "        nombre = list(uploaded.keys())[0]\n",
        "        return nombre\n",
        "    return None"
      ],
      "metadata": {
        "id": "GX6UasCBzko6"
      },
      "execution_count": null,
      "outputs": []
    },
    {
      "cell_type": "code",
      "source": [
        "def mostrar_img(title, img):\n",
        "    # cv usa BGR → convertir a RGB para matplotlib\n",
        "    img_rgb = cv.cvtColor(img, cv.COLOR_BGR2RGB)\n",
        "    plt.figure(figsize=(8, 6))\n",
        "    plt.imshow(img_rgb)\n",
        "    plt.title(title)\n",
        "    plt.axis(\"off\")\n",
        "    plt.show()"
      ],
      "metadata": {
        "id": "4nXxfDxszmYi"
      },
      "execution_count": null,
      "outputs": []
    },
    {
      "cell_type": "code",
      "source": [
        "def procesar_imagen_colab(ruta_imagen):\n",
        "    nombre = os.path.basename(ruta_imagen)\n",
        "\n",
        "    img = cv.imread(ruta_imagen)\n",
        "\n",
        "    # ---------- SIFT + HEATMAP ----------\n",
        "    sift = cv.SIFT_create()\n",
        "    kp, _ = sift.detectAndCompute(img, None)\n",
        "    num_puntos_sift = len(kp)\n",
        "\n",
        "    heatmap = np.zeros((img.shape[0], img.shape[1]), dtype=np.float32)\n",
        "    for kp_i in kp:\n",
        "        x, y = int(kp_i.pt[0]), int(kp_i.pt[1])\n",
        "        if 0 <= x < heatmap.shape[1] and 0 <= y < heatmap.shape[0]:\n",
        "            heatmap[y, x] += 1\n",
        "\n",
        "    heatmap = cv.GaussianBlur(heatmap, (25, 25), 0)\n",
        "    heatmap = cv.normalize(heatmap, None, 0, 255, cv.NORM_MINMAX)\n",
        "    heatmap_color = cv.applyColorMap(heatmap.astype(np.uint8), cv.COLORMAP_JET)\n",
        "    combinado_sift = cv.addWeighted(img, 0.8, heatmap_color, 0.5, 0)\n",
        "\n",
        "    mostrar_img(\"Resultado SIFT\", combinado_sift)\n",
        "\n",
        "    # ---------- YOLO ----------\n",
        "    resultados_yolo = model.predict(source=img, conf=0.5, save=False)\n",
        "    salida_yolo = img.copy()\n",
        "\n",
        "    for r in resultados_yolo:\n",
        "        for box in r.boxes:\n",
        "            x1, y1, x2, y2 = map(int, box.xyxy[0])\n",
        "            etiqueta = r.names[int(box.cls[0])]\n",
        "            cv.rectangle(salida_yolo, (x1, y1), (x2, y2), (255, 0, 0), 2)\n",
        "            cv.putText(salida_yolo, etiqueta, (x1, y1 - 10),\n",
        "                       cv.FONT_HERSHEY_SIMPLEX, 0.8, (255, 0, 0), 2)\n",
        "\n",
        "    mostrar_img(\"Resultado YOLO\", salida_yolo)\n",
        "\n",
        "\n",
        "    gray = cv.cvtColor(img, cv.COLOR_BGR2GRAY)\n",
        "    blurred = cv.GaussianBlur(gray, (21, 21), 0)\n",
        "    mapa_saliencia = cv.normalize(blurred, None, 0, 255, cv.NORM_MINMAX)\n",
        "    heatmap_sal = cv.applyColorMap(mapa_saliencia.astype(np.uint8), cv.COLORMAP_JET)\n",
        "    combinado_yolo = cv.addWeighted(cv.cvtColor(img, cv.COLOR_BGR2RGB), 0.6, heatmap_sal, 0.4, 0)\n",
        "\n",
        "    mostrar_img(\"Resultado YOLO + SIFT\", combinado_yolo)\n",
        "    # ---------- Cálculo de Área Saliente ----------\n",
        "    umbral = 200\n",
        "    area_saliente = int(np.sum(mapa_saliencia > umbral))\n",
        "    total_pixeles = mapa_saliencia.size\n",
        "    porcentaje = area_saliente / total_pixeles * 100\n",
        "\n",
        "\n",
        "    # Guardar en lista de resultados\n",
        "    resultados = []\n",
        "    resultados.append({\n",
        "        \"Imagen\": nombre,\n",
        "        #\"YOLO: Puntos\": len(kp),\n",
        "        \"SIFT: Puntos\": num_puntos_sift,\n",
        "        \"Área Saliente (pixeles)\": int(area_saliente),\n",
        "        \"% Área Saliente\": round(porcentaje, 2)\n",
        "    })\n",
        "\n",
        "    # Mostrar indicadores como DataFrame en pantalla\n",
        "    df_resultados = pd.DataFrame(resultados)\n",
        "    print(df_resultados)\n",
        "\n",
        "\n",
        "\n",
        "\n",
        "\n"
      ],
      "metadata": {
        "id": "uyF15qvEtueb"
      },
      "execution_count": null,
      "outputs": []
    }
  ]
}